{
 "cells": [
  {
   "cell_type": "code",
   "execution_count": 1,
   "metadata": {},
   "outputs": [
    {
     "name": "stdout",
     "output_type": "stream",
     "text": [
      "Collecting neo4j\n",
      "  Downloading neo4j-4.4.1.tar.gz (89 kB)\n",
      "\u001b[K     |████████████████████████████████| 89 kB 3.1 MB/s eta 0:00:011\n",
      "\u001b[?25hRequirement already satisfied: pytz in /opt/conda/lib/python3.9/site-packages (from neo4j) (2021.1)\n",
      "Building wheels for collected packages: neo4j\n",
      "  Building wheel for neo4j (setup.py) ... \u001b[?25ldone\n",
      "\u001b[?25h  Created wheel for neo4j: filename=neo4j-4.4.1-py3-none-any.whl size=114759 sha256=3481cf45e797f450dd94034b25ce4fcae5b92a00bf983e94cc28078dfd56357a\n",
      "  Stored in directory: /home/jovyan/.cache/pip/wheels/1a/38/4b/0876d24f853fdfe40b2440c8c03332ec2d7f1f88b2446dc694\n",
      "Successfully built neo4j\n",
      "Installing collected packages: neo4j\n",
      "Successfully installed neo4j-4.4.1\n"
     ]
    }
   ],
   "source": [
    "!pip install neo4j"
   ]
  },
  {
   "cell_type": "code",
   "execution_count": 2,
   "metadata": {},
   "outputs": [],
   "source": [
    "from pyspark.sql import SparkSession\n",
    "from pyspark.sql.types import StructType, StructField, StringType, IntegerType, TimestampType, DoubleType\n",
    "from pyspark.sql.functions import from_json\n",
    "from pyspark.sql.functions import from_csv\n",
    "from pyspark.sql.functions import *\n",
    "from pyspark.sql.window import Window\n",
    "from neo4j import GraphDatabase"
   ]
  },
  {
   "cell_type": "code",
   "execution_count": 3,
   "metadata": {},
   "outputs": [],
   "source": [
    "# Spark session & context\n",
    "def init():\n",
    "    spark = (SparkSession\n",
    "         .builder\n",
    "         .master('local')\n",
    "         .appName('AndMalware-consumer')\n",
    "         # Add kafka package  \n",
    "         .config(\"spark.jars.packages\", \"org.apache.spark:spark-sql-kafka-0-10_2.12:3.1.1\")\\\n",
    "         .getOrCreate())\n",
    "    return spark"
   ]
  },
  {
   "cell_type": "code",
   "execution_count": 4,
   "metadata": {
    "scrolled": true
   },
   "outputs": [],
   "source": [
    "sc = init()\n",
    "# Create stream dataframe setting kafka server, topic and offset option\n",
    "def getReadStream(spark):\n",
    "    df = spark \\\n",
    "      .readStream \\\n",
    "      .format(\"kafka\") \\\n",
    "      .option(\"kafka.bootstrap.servers\", \"kafka-server:9092\") \\\n",
    "      .option(\"startingOffsets\", \"earliest\") \\\n",
    "      .option(\"subscribe\", \"AndMalwer\") \\\n",
    "      .load()\n",
    "    \n",
    "    #df.selectExpr(\"CAST(value AS STRING)\", \"timestamp\")\n",
    "    dff = (df\n",
    "    .withColumn(\"key\", df[\"key\"].cast(StringType()))\n",
    "    .withColumn(\"value\", df[\"value\"].cast(StringType())))\n",
    "    return dff\n"
   ]
  },
  {
   "cell_type": "code",
   "execution_count": 5,
   "metadata": {},
   "outputs": [],
   "source": [
    "def foreach_batch_function(df, epoch_id):\n",
    "    # Transform and write batchDF\n",
    "    df.write\\\n",
    "    .format(\"org.neo4j.spark.DataSource\")\\\n",
    "    .mode(\"Append\")\\\n",
    "    .option(\"url\", \"bolt://neo4j:7687\")\\\n",
    "    .option(\"authentication.type\", \"basic\")\\\n",
    "    .option(\"authentication.basic.username\", \"neo4j\")\\\n",
    "    .option(\"authentication.basic.password\", \"neo\")\\\n",
    "    .option(\"query\", \"CREATE (n:Malware {DIP: event.Destination_IP,maxFD: event.MaxFD,minFD: event.MinFD,sumFD: event.SumFD,meanFD: event.MeanFD,stddevFD: event.StddevFD,maxTFWD: event.MaxTFWD,minTFWD: event.MinTFWD,sumTFWD: event.SumTFWD,meanTFWD: event.MeanTFWD,stddevTFWD: event.StddevTFWD,maxTBWD: event.MaxTBWD,minTBWD: event.MinTBWD,sumTBWD: event.SumTBWD,meanTBWD: event.MeanTBWD,stddevTBWD: event.StddevTBWD,maxFB: event.MaxFB,minFB: event.MinFB,sumFB: event.SumFB,meanFB: event.MeanFB,stddevFB: event.StddevFB,maxFP: event.MaxFB,minFP: event.MinFP,sumFP: event.SumFP,meanFP: event.MeanFP,stddevFP: event.StddevFP})\")\\\n",
    "    .save()\n",
    "    pass"
   ]
  },
  {
   "cell_type": "code",
   "execution_count": null,
   "metadata": {
    "scrolled": true
   },
   "outputs": [],
   "source": [
    "#Geting readsteram\n",
    "df1 = getReadStream(sc)\n",
    "\n",
    "#Parsing datta from value string.\n",
    "\n",
    "df2 = df1.selectExpr(\"split(value,',')[0] as Source_IP\" \\\n",
    "                 ,\"split(value,',')[1] as Source_Port\" \\\n",
    "                 ,\"split(value,',')[2] as Destination_IP\" \\\n",
    "                ,\"split(value,',')[3] as Destination_Port\" \\\n",
    "                ,\"split(value,',')[4] as Timestamp\" \\\n",
    "                ,\"split(value,',')[5] as Flow_Duration\" \\\n",
    "                ,\"split(value,',')[6] as Total_Fwd_Packets\" \\\n",
    "                ,\"split(value,',')[7] as Total_Bwd_Packets\" \\\n",
    "                ,\"split(value,',')[8] as Total_Length_of_Fwd_Packets\" \\\n",
    "                ,\"split(value,',')[9] as Total_Length_of_Bwd_Packets\" \\\n",
    "                ,\"split(value,',')[10] as Flow_Bytess\" \\\n",
    "                ,\"split(value,',')[11] as Flow_Packetss\" \\\n",
    "                    )\n",
    "\n",
    "\n",
    "#Formating data.\n",
    "\n",
    "df3 = df2.withColumn(\"Source_Port\", df2[\"Source_Port\"].cast(IntegerType()))\\\n",
    "        .withColumn(\"Destination_Port\", df2[\"Destination_Port\"].cast(IntegerType()))\\\n",
    "        .withColumn(\"Destination_IP\", df2[\"Destination_IP\"].alias(\"DIP\"))\\\n",
    "        .withColumn(\"Timestamp\", df2[\"Timestamp\"].cast(TimestampType()))\\\n",
    "        .withColumn(\"Flow_Duration\", df2[\"Flow_Duration\"].cast(IntegerType()))\\\n",
    "        .withColumn(\"Total_Fwd_Packets\", df2[\"Total_Fwd_Packets\"].cast(IntegerType()))\\\n",
    "        .withColumn(\"Total_Bwd_Packets\", df2[\"Total_Bwd_Packets\"].cast(IntegerType()))\\\n",
    "        .withColumn(\"Total_Length_of_Fwd_Packets\", df2[\"Total_Length_of_Fwd_Packets\"].cast(IntegerType()))\\\n",
    "        .withColumn(\"Total_Length_of_Bwd_Packets\", df2[\"Total_Length_of_Bwd_Packets\"].cast(IntegerType()))\\\n",
    "        .withColumn(\"Flow_Bytess\", df2[\"Flow_Bytess\"].cast(IntegerType()))\\\n",
    "        .withColumn(\"Flow_Packetss\", df2[\"Flow_Packetss\"].cast(DoubleType()))\n",
    "\n",
    "#Creating a window duration 10 minutes.\n",
    "\n",
    "wind = window(df3.Timestamp,\"10 minutes\")\n",
    "\n",
    "wdf = df3.groupBy(wind,col(\"Destination_IP\")).agg(sum(col(\"Flow_Duration\")).alias(\"SumFD\")\\\n",
    "                                                         ,max(col(\"Flow_Duration\")).alias(\"MaxFD\")\\\n",
    "                                                         ,min(col(\"Flow_Duration\")).alias(\"MinFD\")\\\n",
    "                                                         ,mean(col(\"Flow_Duration\")).alias(\"MeanFD\")\\\n",
    "                                                         ,stddev(col(\"Flow_Duration\")).alias(\"StddevFD\")\\\n",
    "                                                         ,sum(col(\"Total_Fwd_Packets\")).alias(\"SumTFWD\")\\\n",
    "                                                         ,max(col(\"Total_Fwd_Packets\")).alias(\"MaxTFWD\")\\\n",
    "                                                         ,min(col(\"Total_Fwd_Packets\")).alias(\"MinTFWD\")\\\n",
    "                                                         ,mean(col(\"Total_Fwd_Packets\")).alias(\"MeanTFWD\")\\\n",
    "                                                         ,stddev(col(\"Total_Fwd_Packets\")).alias(\"StddevTFWD\")\n",
    "                                                         ,sum(col(\"Total_Bwd_Packets\")).alias(\"SumTBWD\")\\\n",
    "                                                         ,max(col(\"Total_Bwd_Packets\")).alias(\"MaxTBWD\")\\\n",
    "                                                         ,min(col(\"Total_Bwd_Packets\")).alias(\"MinTBWD\")\\\n",
    "                                                         ,mean(col(\"Total_Bwd_Packets\")).alias(\"MeanTBWD\")\\\n",
    "                                                         ,stddev(col(\"Total_Bwd_Packets\")).alias(\"StddevTBWD\")\n",
    "                                                         ,sum(col(\"Flow_Bytess\")).alias(\"SumFB\")\\\n",
    "                                                         ,max(col(\"Flow_Bytess\")).alias(\"MaxFB\")\\\n",
    "                                                         ,min(col(\"Flow_Bytess\")).alias(\"MinFB\")\\\n",
    "                                                         ,mean(col(\"Flow_Bytess\")).alias(\"MeanFB\")\\\n",
    "                                                         ,stddev(col(\"Flow_Bytess\")).alias(\"StddevFB\")\n",
    "                                                         ,sum(col(\"Flow_Packetss\")).alias(\"SumFP\")\\\n",
    "                                                         ,max(col(\"Flow_Packetss\")).alias(\"MaxFP\")\\\n",
    "                                                         ,min(col(\"Flow_Packetss\")).alias(\"MinFP\")\\\n",
    "                                                         ,mean(col(\"Flow_Packetss\")).alias(\"MeanFP\")\\\n",
    "                                                         ,stddev(col(\"Flow_Packetss\")).alias(\"StddevFP\"))\\\n",
    "                                                        .where(col(\"Destination_IP\") ==\" 10.42.0.151\")\n",
    "\n",
    "#Write stream.\n",
    "query = (wdf.writeStream\\\n",
    "        .foreachBatch(foreach_batch_function)\\\n",
    "        .outputMode('update')\\\n",
    "        .trigger(processingTime='3 seconds')\\\n",
    "        .start())\n",
    "\n",
    "query.awaitTermination()\n"
   ]
  },
  {
   "cell_type": "code",
   "execution_count": null,
   "metadata": {},
   "outputs": [],
   "source": []
  },
  {
   "cell_type": "code",
   "execution_count": null,
   "metadata": {},
   "outputs": [],
   "source": []
  },
  {
   "cell_type": "code",
   "execution_count": null,
   "metadata": {},
   "outputs": [],
   "source": []
  },
  {
   "cell_type": "code",
   "execution_count": null,
   "metadata": {},
   "outputs": [],
   "source": []
  },
  {
   "cell_type": "code",
   "execution_count": null,
   "metadata": {},
   "outputs": [],
   "source": []
  }
 ],
 "metadata": {
  "kernelspec": {
   "display_name": "Python 3",
   "language": "python",
   "name": "python3"
  },
  "language_info": {
   "codemirror_mode": {
    "name": "ipython",
    "version": 3
   },
   "file_extension": ".py",
   "mimetype": "text/x-python",
   "name": "python",
   "nbconvert_exporter": "python",
   "pygments_lexer": "ipython3",
   "version": "3.9.4"
  }
 },
 "nbformat": 4,
 "nbformat_minor": 4
}
